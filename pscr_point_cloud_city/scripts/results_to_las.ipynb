{
 "cells": [
  {
   "cell_type": "markdown",
   "metadata": {},
   "source": [
    "# Convert results from PCC-O3D-ML to LAS format\n",
    "This notebook allows users to take the binary result labels and create a folder with the results and ground truth saved as LAS files. Open3D-ML also features vizualization scripts which are configured with PCC_SKITTI in the binary format, but since the original Point Cloud Dataset was originally in LAS files this script provides seamless input to output.\n",
    "\n",
    "The input format structure expected should match that of the Semantic KITTI dataset."
   ]
  },
  {
   "cell_type": "code",
   "execution_count": 2,
   "metadata": {},
   "outputs": [],
   "source": [
    "import numpy as np\n",
    "import os\n",
    "import laspy"
   ]
  },
  {
   "cell_type": "code",
   "execution_count": 6,
   "metadata": {},
   "outputs": [],
   "source": [
    "# Add paths\n",
    "pcc_skitti = 'add path to PCC_SKITTI' #(find instructions in /PointCloudCity-Open3D-ML/pscr_point_cloud_city)\n",
    "o3dml_results = 'add path to test results' #(found in /PointCloudCity-Open3D-ML/test/)\n",
    "output_dir = # path to output folder\n",
    "\n",
    "filenames = os.listdir(o3dml_results)"
   ]
  },
  {
   "cell_type": "code",
   "execution_count": 5,
   "metadata": {},
   "outputs": [],
   "source": [
    "for seq in filenames:\n",
    "\n",
    "    # PATHS\n",
    "    seq_p = os.path.join(pcc_skitti, seq)\n",
    "    seq_l = os.path.join(o3dml_results, seq)\n",
    "\n",
    "    # PCC Points\n",
    "    path_vel = 'velodyne'\n",
    "    path_points_1 = os.path.join(seq_p, path_vel)\n",
    "    path_bin = '000000.bin'\n",
    "    path_points = os.path.join(path_points_1, path_bin)\n",
    "    scan = np.fromfile(path_points, dtype='float32')\n",
    "\n",
    "    # Ground Truth Labels\n",
    "    path_ll = 'labels'\n",
    "    path_l = os.path.join(path_ll, '000000.label')\n",
    "    path_labels = os.path.join(seq_p, path_l)\n",
    "\n",
    "    # Results Labels\n",
    "    path_lr = 'predictions'\n",
    "    path_lrl = os.path.join(path_lr, '000000.label')\n",
    "    path_results = os.path.join(seq_l, path_lrl)\n",
    "\n",
    "    # Transform points\n",
    "    pntz = scan.reshape((-1, 4))\n",
    "    points = np.delete(pntz, [3], axis=1)\n",
    "\n",
    "    # Load ground truth and results labels\n",
    "    ground_labels_un = np.fromfile(path_labels, dtype='uint32')\n",
    "    results_labels_un = np.fromfile(path_results, dtype='uint32')\n",
    "\n",
    "    gt_saver = ground_labels_un\n",
    "    res_saver = results_labels_un\n",
    "    pnt_saver = points\n",
    "\n",
    "    points = pnt_saver\n",
    "    ground_labels = gt_saver\n",
    "    results_labels = res_saver\n",
    "\n",
    "    #SAVE PATHS\n",
    "    save_gt = seq+'_gt.las'\n",
    "    save_results = seq+'_results.las'\n",
    "    save_gt_path = os.path.join(output_dir, save_gt)\n",
    "    save_results_path = os.path.join(output_dir, save_results)\n",
    "\n",
    "    # ### SAVE GT\n",
    "    header = laspy.LasHeader(point_format=3, version=\"1.4\")\n",
    "    header.offsets = np.min(points, axis=0)\n",
    "    header.scales = np.array([0.1, 0.1, 0.1])\n",
    "    with laspy.open(save_gt_path, mode=\"w\", header=header) as writer:\n",
    "        point_record = laspy.ScaleAwarePointRecord.zeros(points.shape[0], header=header)\n",
    "        point_record.x = points[:, 0]\n",
    "        point_record.y = points[:, 1]\n",
    "        point_record.z = points[:, 2]\n",
    "        point_record.classification = ground_labels[:]\n",
    "\n",
    "        writer.write_points(point_record)\n",
    "\n",
    "    ### SAVE RESULTS\n",
    "    with laspy.open(save_results_path, mode=\"w\", header=header) as writer:\n",
    "        point_record = laspy.ScaleAwarePointRecord.zeros(points.shape[0], header=header)\n",
    "        point_record.x = points[:, 0]\n",
    "        point_record.y = points[:, 1]\n",
    "        point_record.z = points[:, 2]\n",
    "        point_record.classification = results_labels[:]\n",
    "\n",
    "        writer.write_points(point_record)\n",
    "\n",
    "    # CLEAN\n",
    "    del pntz, scan, points, ground_labels_un, results_labels_un, ground_labels, results_labels "
   ]
  }
 ],
 "metadata": {
  "kernelspec": {
   "display_name": "py37",
   "language": "python",
   "name": "python3"
  },
  "language_info": {
   "codemirror_mode": {
    "name": "ipython",
    "version": 3
   },
   "file_extension": ".py",
   "mimetype": "text/x-python",
   "name": "python",
   "nbconvert_exporter": "python",
   "pygments_lexer": "ipython3",
   "version": "3.9.13"
  },
  "orig_nbformat": 4
 },
 "nbformat": 4,
 "nbformat_minor": 2
}
