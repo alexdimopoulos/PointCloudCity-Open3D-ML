{
 "cells": [
  {
   "cell_type": "code",
   "execution_count": 9,
   "metadata": {},
   "outputs": [
    {
     "ename": "Exception",
     "evalue": "Open3D was not built with TensorFlow support!",
     "output_type": "error",
     "traceback": [
      "\u001b[1;31m---------------------------------------------------------------------------\u001b[0m",
      "\u001b[1;31mException\u001b[0m                                 Traceback (most recent call last)",
      "\u001b[1;32m~\\AppData\\Local\\Temp/ipykernel_9208/1207760045.py\u001b[0m in \u001b[0;36m<module>\u001b[1;34m\u001b[0m\n\u001b[0;32m      1\u001b[0m \u001b[1;31m# import open3d.ml.torch as ml3d\u001b[0m\u001b[1;33m\u001b[0m\u001b[1;33m\u001b[0m\u001b[1;33m\u001b[0m\u001b[0m\n\u001b[1;32m----> 2\u001b[1;33m \u001b[1;32mimport\u001b[0m \u001b[0mopen3d\u001b[0m\u001b[1;33m.\u001b[0m\u001b[0mml\u001b[0m\u001b[1;33m.\u001b[0m\u001b[0mtf\u001b[0m \u001b[1;32mas\u001b[0m \u001b[0mml3d\u001b[0m\u001b[1;33m\u001b[0m\u001b[1;33m\u001b[0m\u001b[0m\n\u001b[0m\u001b[0;32m      3\u001b[0m \u001b[1;32mimport\u001b[0m \u001b[0mnumpy\u001b[0m \u001b[1;32mas\u001b[0m \u001b[0mnp\u001b[0m\u001b[1;33m\u001b[0m\u001b[1;33m\u001b[0m\u001b[0m\n\u001b[0;32m      4\u001b[0m \u001b[1;33m\u001b[0m\u001b[0m\n\u001b[0;32m      5\u001b[0m \u001b[0mnum_points\u001b[0m \u001b[1;33m=\u001b[0m \u001b[1;36m100000\u001b[0m\u001b[1;33m\u001b[0m\u001b[1;33m\u001b[0m\u001b[0m\n",
      "\u001b[1;32m~\\Anaconda3\\envs\\o3Dml\\lib\\site-packages\\open3d\\ml\\tf\\__init__.py\u001b[0m in \u001b[0;36m<module>\u001b[1;34m\u001b[0m\n\u001b[0;32m     30\u001b[0m \u001b[1;33m\u001b[0m\u001b[0m\n\u001b[0;32m     31\u001b[0m \u001b[1;32mif\u001b[0m \u001b[1;32mnot\u001b[0m \u001b[0m_build_config\u001b[0m\u001b[1;33m[\u001b[0m\u001b[1;34m\"Tensorflow_VERSION\"\u001b[0m\u001b[1;33m]\u001b[0m\u001b[1;33m:\u001b[0m\u001b[1;33m\u001b[0m\u001b[1;33m\u001b[0m\u001b[0m\n\u001b[1;32m---> 32\u001b[1;33m     \u001b[1;32mraise\u001b[0m \u001b[0mException\u001b[0m\u001b[1;33m(\u001b[0m\u001b[1;34m'Open3D was not built with TensorFlow support!'\u001b[0m\u001b[1;33m)\u001b[0m\u001b[1;33m\u001b[0m\u001b[1;33m\u001b[0m\u001b[0m\n\u001b[0m\u001b[0;32m     33\u001b[0m \u001b[1;33m\u001b[0m\u001b[0m\n\u001b[0;32m     34\u001b[0m \u001b[0m_o3d_tf_version\u001b[0m \u001b[1;33m=\u001b[0m \u001b[0m_build_config\u001b[0m\u001b[1;33m[\u001b[0m\u001b[1;34m\"Tensorflow_VERSION\"\u001b[0m\u001b[1;33m]\u001b[0m\u001b[1;33m.\u001b[0m\u001b[0msplit\u001b[0m\u001b[1;33m(\u001b[0m\u001b[1;34m'.'\u001b[0m\u001b[1;33m)\u001b[0m\u001b[1;33m\u001b[0m\u001b[1;33m\u001b[0m\u001b[0m\n",
      "\u001b[1;31mException\u001b[0m: Open3D was not built with TensorFlow support!"
     ]
    }
   ],
   "source": [
    "# import open3d.ml.torch as ml3d\n",
    "import open3d.ml.tf as ml3d\n",
    "import numpy as np\n",
    "\n",
    "num_points = 100000\n",
    "points = np.random.rand(num_points, 3).astype(np.float32)\n",
    "\n",
    "data = [\n",
    "    {\n",
    "        'name': 'my_point_cloud',\n",
    "        'points': points,\n",
    "        'random_colors': np.random.rand(*points.shape).astype(np.float32),\n",
    "        'int_attr': (points[:,0]*5).astype(np.int32),\n",
    "    }\n",
    "]\n",
    "\n",
    "vis = ml3d.vis.Visualizer()\n",
    "vis.visualize(data)"
   ]
  },
  {
   "cell_type": "code",
   "execution_count": 7,
   "metadata": {},
   "outputs": [
    {
     "ename": "LASHeaderError",
     "evalue": "Line 1068 (section ~a\u001d=\u0000\u0011\u0000\u0001\u0000\u0000\u0000\u0000\u0000\u0000\u0000\u0000\u0000\u0000\u0000\u0000\u0000\u0000ÿ\u0000ÿ\u0000ÿ\u0000\u0000\u0000¿\u0002BçÛÚ1\u0000a\u001d=\u0000\u0011\u0000\u0001\u0000\u0000\u0000\u0000\u0000\u0000\u0000\u0000\u0000\u0000\u0000\u0000\u0000\u0000ÿ\u0000ÿ\u0000ÿ\u0000\u0000\u0000¿¤=çg¿Ù1{7c\u001d?\u0000\u0011\u0000\u0001\u0000\u0000\u0000\u0000\u0000\u0000\u0000\u0000\u0000\u0000\u0000\u0000\u0000\u0000ÿ\u0000ÿ\u0000ÿ\u0000\u0000\u0000¿\u0012e:ç¤Ø1gfe\u001d=\u0000\u0011\u0000\u0001\u0000\u0000\u0000\u0000\u0000\u0000\u0000\u0000\u0000\u0000\u0000\u0000\u0000\u0000ÿ\u0000ÿ\u0000ÿ\u0000\u0000\u0000¿99ç\u0002BÙ1\u0013\u0018e\u001dA\u0000\u0011\u0000\u0001\u0000\u0000\u0000\u0000\u0000\u0000\u0000\u0000\u0000\u0000\u0000\u0000\u0000\u0000ÿ\u0000ÿ\u0000ÿ\u0000\u0000\u0000¿%ë6ç4¨Ú1nxd\u001dd\u0000\u0011\u0000\u0001\u0000\u0000\u0000\u0000\u0000\u0000\u0000\u0000\u0000\u0000\u0000\u0000\u0000\u0000ÿ\u0000ÿ\u0000ÿ\u0000\u0000\u0000¿íó5ç\u0000Û1\u0005ïc\u001dP\u0000\u0011\u0000\u0001\u0000\u0000\u0000\u0000\u0000\u0000\u0000\u0000\u0000\u0000\u0000\u0000\u0000\u0000ÿ\u0000ÿ\u0000ÿ\u0000\u0000\u0000¿Ðr5ç&\u000bä1CÞ[\u001dD\u0000\u0011\u0000\u0001\u0000\u0000\u0000\u0000\u0000\u0000\u0000\u0000\u0000\u0000\u0000\u0000\u0000\u0000ÿ\u0000ÿ\u0000ÿ\u0000\u0000\u0000¿Ê¸4ç§&å11\u0007[\u001d?\u0000\u0011\u0000\u0001\u0000\u0000\u0000\u0000\u0000\u0000\u0000\u0000\u0000\u0000\u0000\u0000\u0000\u0000ÿ\u0000ÿ\u0000ÿ\u0000\u0000\u0000¿ËA7ç²Åê1kÉT\u001dD\u0000\u0011\u0000\u0001\u0000\u0000\u0000\u0000\u0000\u0000\u0000\u0000\u0000\u0000\u0000\u0000\u0000\u0000ÿ\u0000ÿ\u0000ÿ\u0000\u0000\u0000¿ø\"6çøë1-gT\u001dA\u0000\u0011\u0000\u0001\u0000\u0000\u0000\u0000\u0000\u0000\u0000\u0000\u0000\u0000\u0000\u0000\u0000\u0000ÿ\u0000ÿ\u0000ÿ\u0000\u0000\u0000¿ ò4çQàí1ùxR\u001dD\u0000\u0011\u0000\u0001\u0000\u0000\u0000\u0000\u0000\u0000\u0000\u0000\u0000\u0000\u0000\u0000\u0000\u0000ÿ\u0000ÿ\u0000ÿ\u0000\u0000\u0000¿\u00186çá6ò1\u0004èM\u001dD\u0000\u0011\u0000\u0001\u0000\u0000\u0000\u0000\u0000\u0000\u0000\u0000\u0000\u0000\u0000\u0000\u0000\u0000ÿ\u0000ÿ\u0000ÿ\u0000\u0000\u0000¿SÑ5ç): \";ç§Ü18\u001dI\u0000\u0011\u0000\u0001\u0000\u0000\u0000\u0000\u0000\u0000\u0000\u0000\u0000\u0000\u0000\u0000\u0000\u0000ÿ\u0000ÿ\u0000ÿ\u0000\u0000\u0000¿y`8ç[Û1³:\u001dF\u0000\u0011\u0000\u0001\u0000\u0000\u0000\u0000\u0000\u0000\u0000\u0000\u0000\u0000\u0000\u0000\u0000\u0000ÿ\u0000ÿ\u0000ÿ\u0000\u0000\u0000¿GW4ç\u0001Û1£¦=\u001d^\u0000\u0011\u0000\u0001\u0000\u0000\u0000\u0000\u0000\u0000\u0000\u0000\u0000\u0000\u0000\u0000\u0000\u0000ÿ\u0000ÿ\u0000ÿ\u0000\u0000\u0000¿\u000bl1ç@½á1Å<\u001d;\u0000\u0011\u0000\u0001\u0000\u0000\u0000\u0000\u0000\u0000\u0000\u0000\u0000\u0000\u0000\u0000\u0000\u0000ÿ\u0000ÿ\u0000ÿ\u0000\u0000\u0000¿è³2çÚþä1öV:\u001d9\u0000\u0011\u0000\u0001\u0000\u0000\u0000\u0000\u0000\u0000\u0000\u0000\u0000\u0000\u0000\u0000\u0000\u0000ÿ\u0000ÿ\u0000ÿ\u0000\u0000\u0000¿\u0010!2çµ3æ1Õ':\u001d9\u0000\u0011\u0000\u0001\u0000\u0000\u0000\u0000\u0000\u0000\u0000\u0000\u0000\u0000\u0000\u0000\u0000\u0000ÿ\u0000ÿ\u0000ÿ\u0000\u0000\u0000¿2u1çéç1\u0013:\u001d9\u0000\u0011\u0000\u0001\u0000\u0000\u0000\u0000\u0000\u0000\u0000\u0000\u0000\u0000\u0000\u0000\u0000\u0000ÿ\u0000ÿ\u0000ÿ\u0000\u0000\u0000¿#%WçePÛ1(c\u001d8\u0000\u0011\u0000\u0001\u0000\u0000\u0000\u0000\u0000\u0000\u0000\u0000\u0000\u0000\u0000\u0000\u0000\u0000ÿ\u0000ÿ\u0000ÿ\u0000\u0000\u0000¿öRçÑÛ1Äf\u001d6\u0000\u0011\u0000\u0001\u0000\u0000\u0000\u0000\u0000\u0000\u0000\u0000\u0000\u0000\u0000\u0000\u0000\u0000ÿ\u0000ÿ\u0000ÿ\u0000\u0000\u0000¿iÛNçåìÚ1\u0004ùi\u001d1\u0000\u0011\u0000\u0001\u0000\u0000\u0000\u0000\u0000\u0000\u0000\u0000\u0000\u0000\u0000\u0000\u0000\u0000ÿ\u0000ÿ\u0000ÿ\u0000\u0000\u0000¿WeKçÄÚ1i¢l\u001d6\u0000\u0011\u0000\u0001\u0000\u0000\u0000\u0000\u0000\u0000\u0000\u0000\u0000\u0000\u0000\u0000\u0000\u0000ÿ\u0000ÿ\u0000ÿ\u0000\u0000\u0000¿é}IçÜ1H\"",
     "output_type": "error",
     "traceback": [
      "\u001b[1;31m---------------------------------------------------------------------------\u001b[0m",
      "\u001b[1;31mAttributeError\u001b[0m                            Traceback (most recent call last)",
      "\u001b[1;32m~\\Anaconda3\\envs\\o3Dml\\lib\\site-packages\\lasio\\reader.py\u001b[0m in \u001b[0;36mparse_header_items_section\u001b[1;34m(file_obj, line_nos, version, ignore_header_errors, mnemonic_case, ignore_comments)\u001b[0m\n\u001b[0;32m    586\u001b[0m             \u001b[1;32mtry\u001b[0m\u001b[1;33m:\u001b[0m\u001b[1;33m\u001b[0m\u001b[1;33m\u001b[0m\u001b[0m\n\u001b[1;32m--> 587\u001b[1;33m                 \u001b[0mvalues\u001b[0m \u001b[1;33m=\u001b[0m \u001b[0mread_line\u001b[0m\u001b[1;33m(\u001b[0m\u001b[0mline\u001b[0m\u001b[1;33m,\u001b[0m \u001b[0msection_name\u001b[0m\u001b[1;33m=\u001b[0m\u001b[0mparser\u001b[0m\u001b[1;33m.\u001b[0m\u001b[0msection_name2\u001b[0m\u001b[1;33m)\u001b[0m\u001b[1;33m\u001b[0m\u001b[1;33m\u001b[0m\u001b[0m\n\u001b[0m\u001b[0;32m    588\u001b[0m             \u001b[1;32mexcept\u001b[0m\u001b[1;33m:\u001b[0m\u001b[1;33m\u001b[0m\u001b[1;33m\u001b[0m\u001b[0m\n",
      "\u001b[1;32m~\\Anaconda3\\envs\\o3Dml\\lib\\site-packages\\lasio\\reader.py\u001b[0m in \u001b[0;36mread_line\u001b[1;34m(*args, **kwargs)\u001b[0m\n\u001b[0;32m    796\u001b[0m     \"\"\"\n\u001b[1;32m--> 797\u001b[1;33m     \u001b[1;32mreturn\u001b[0m \u001b[0mread_header_line\u001b[0m\u001b[1;33m(\u001b[0m\u001b[1;33m*\u001b[0m\u001b[0margs\u001b[0m\u001b[1;33m,\u001b[0m \u001b[1;33m**\u001b[0m\u001b[0mkwargs\u001b[0m\u001b[1;33m)\u001b[0m\u001b[1;33m\u001b[0m\u001b[1;33m\u001b[0m\u001b[0m\n\u001b[0m\u001b[0;32m    798\u001b[0m \u001b[1;33m\u001b[0m\u001b[0m\n",
      "\u001b[1;32m~\\Anaconda3\\envs\\o3Dml\\lib\\site-packages\\lasio\\reader.py\u001b[0m in \u001b[0;36mread_header_line\u001b[1;34m(line, pattern, section_name)\u001b[0m\n\u001b[0;32m    836\u001b[0m \u001b[1;33m\u001b[0m\u001b[0m\n\u001b[1;32m--> 837\u001b[1;33m     \u001b[0mmdict\u001b[0m \u001b[1;33m=\u001b[0m \u001b[0mm\u001b[0m\u001b[1;33m.\u001b[0m\u001b[0mgroupdict\u001b[0m\u001b[1;33m(\u001b[0m\u001b[1;33m)\u001b[0m\u001b[1;33m\u001b[0m\u001b[1;33m\u001b[0m\u001b[0m\n\u001b[0m\u001b[0;32m    838\u001b[0m     \u001b[1;32mfor\u001b[0m \u001b[0mkey\u001b[0m\u001b[1;33m,\u001b[0m \u001b[0mvalue\u001b[0m \u001b[1;32min\u001b[0m \u001b[0mmdict\u001b[0m\u001b[1;33m.\u001b[0m\u001b[0mitems\u001b[0m\u001b[1;33m(\u001b[0m\u001b[1;33m)\u001b[0m\u001b[1;33m:\u001b[0m\u001b[1;33m\u001b[0m\u001b[1;33m\u001b[0m\u001b[0m\n",
      "\u001b[1;31mAttributeError\u001b[0m: 'NoneType' object has no attribute 'groupdict'",
      "\nDuring handling of the above exception, another exception occurred:\n",
      "\u001b[1;31mLASHeaderError\u001b[0m                            Traceback (most recent call last)",
      "\u001b[1;32m~\\AppData\\Local\\Temp/ipykernel_9208/2790051510.py\u001b[0m in \u001b[0;36m<module>\u001b[1;34m\u001b[0m\n\u001b[1;32m----> 1\u001b[1;33m \u001b[0mlas\u001b[0m \u001b[1;33m=\u001b[0m \u001b[0mlasio\u001b[0m\u001b[1;33m.\u001b[0m\u001b[0mread\u001b[0m\u001b[1;33m(\u001b[0m\u001b[1;34mr'\\Users\\and27\\Desktop\\Point Cloud City Datasets\\Memphis/FIT_2021_01_22.las'\u001b[0m\u001b[1;33m)\u001b[0m\u001b[1;33m\u001b[0m\u001b[1;33m\u001b[0m\u001b[0m\n\u001b[0m\u001b[0;32m      2\u001b[0m \u001b[1;33m\u001b[0m\u001b[0m\n\u001b[0;32m      3\u001b[0m \u001b[1;31m# C:\\Users\\and27\\Desktop\\Point Cloud City Datasets\\Memphis\u001b[0m\u001b[1;33m\u001b[0m\u001b[1;33m\u001b[0m\u001b[1;33m\u001b[0m\u001b[0m\n",
      "\u001b[1;32m~\\Anaconda3\\envs\\o3Dml\\lib\\site-packages\\lasio\\__init__.py\u001b[0m in \u001b[0;36mread\u001b[1;34m(file_ref, **kwargs)\u001b[0m\n\u001b[0;32m     39\u001b[0m \u001b[1;33m\u001b[0m\u001b[0m\n\u001b[0;32m     40\u001b[0m     \"\"\"\n\u001b[1;32m---> 41\u001b[1;33m     \u001b[1;32mreturn\u001b[0m \u001b[0mLASFile\u001b[0m\u001b[1;33m(\u001b[0m\u001b[0mfile_ref\u001b[0m\u001b[1;33m,\u001b[0m \u001b[1;33m**\u001b[0m\u001b[0mkwargs\u001b[0m\u001b[1;33m)\u001b[0m\u001b[1;33m\u001b[0m\u001b[1;33m\u001b[0m\u001b[0m\n\u001b[0m",
      "\u001b[1;32m~\\Anaconda3\\envs\\o3Dml\\lib\\site-packages\\lasio\\las.py\u001b[0m in \u001b[0;36m__init__\u001b[1;34m(self, file_ref, **read_kwargs)\u001b[0m\n\u001b[0;32m     76\u001b[0m \u001b[1;33m\u001b[0m\u001b[0m\n\u001b[0;32m     77\u001b[0m         \u001b[1;32mif\u001b[0m \u001b[1;32mnot\u001b[0m \u001b[1;33m(\u001b[0m\u001b[0mfile_ref\u001b[0m \u001b[1;32mis\u001b[0m \u001b[1;32mNone\u001b[0m\u001b[1;33m)\u001b[0m\u001b[1;33m:\u001b[0m\u001b[1;33m\u001b[0m\u001b[1;33m\u001b[0m\u001b[0m\n\u001b[1;32m---> 78\u001b[1;33m             \u001b[0mself\u001b[0m\u001b[1;33m.\u001b[0m\u001b[0mread\u001b[0m\u001b[1;33m(\u001b[0m\u001b[0mfile_ref\u001b[0m\u001b[1;33m,\u001b[0m \u001b[1;33m**\u001b[0m\u001b[0mread_kwargs\u001b[0m\u001b[1;33m)\u001b[0m\u001b[1;33m\u001b[0m\u001b[1;33m\u001b[0m\u001b[0m\n\u001b[0m\u001b[0;32m     79\u001b[0m \u001b[1;33m\u001b[0m\u001b[0m\n\u001b[0;32m     80\u001b[0m     def read(\n",
      "\u001b[1;32m~\\Anaconda3\\envs\\o3Dml\\lib\\site-packages\\lasio\\las.py\u001b[0m in \u001b[0;36mread\u001b[1;34m(self, file_ref, ignore_data, read_policy, null_policy, ignore_header_errors, ignore_comments, mnemonic_case, index_unit, remove_data_line_filter, **kwargs)\u001b[0m\n\u001b[0;32m    171\u001b[0m                 \u001b[1;32mif\u001b[0m \u001b[0msection_type\u001b[0m \u001b[1;33m==\u001b[0m \u001b[1;34m\"Header items\"\u001b[0m\u001b[1;33m:\u001b[0m\u001b[1;33m\u001b[0m\u001b[1;33m\u001b[0m\u001b[0m\n\u001b[0;32m    172\u001b[0m                     \u001b[0mfile_obj\u001b[0m\u001b[1;33m.\u001b[0m\u001b[0mseek\u001b[0m\u001b[1;33m(\u001b[0m\u001b[0mk\u001b[0m\u001b[1;33m)\u001b[0m\u001b[1;33m\u001b[0m\u001b[1;33m\u001b[0m\u001b[0m\n\u001b[1;32m--> 173\u001b[1;33m                     sct_items = reader.parse_header_items_section(\n\u001b[0m\u001b[0;32m    174\u001b[0m                         \u001b[0mfile_obj\u001b[0m\u001b[1;33m,\u001b[0m\u001b[1;33m\u001b[0m\u001b[1;33m\u001b[0m\u001b[0m\n\u001b[0;32m    175\u001b[0m                         \u001b[0mline_nos\u001b[0m\u001b[1;33m=\u001b[0m\u001b[1;33m(\u001b[0m\u001b[0mfirst_line\u001b[0m\u001b[1;33m,\u001b[0m \u001b[0mlast_line\u001b[0m\u001b[1;33m)\u001b[0m\u001b[1;33m,\u001b[0m\u001b[1;33m\u001b[0m\u001b[1;33m\u001b[0m\u001b[0m\n",
      "\u001b[1;32m~\\Anaconda3\\envs\\o3Dml\\lib\\site-packages\\lasio\\reader.py\u001b[0m in \u001b[0;36mparse_header_items_section\u001b[1;34m(file_obj, line_nos, version, ignore_header_errors, mnemonic_case, ignore_comments)\u001b[0m\n\u001b[0;32m    591\u001b[0m                     \u001b[0mlogger\u001b[0m\u001b[1;33m.\u001b[0m\u001b[0mwarning\u001b[0m\u001b[1;33m(\u001b[0m\u001b[0mmessage\u001b[0m\u001b[1;33m)\u001b[0m\u001b[1;33m\u001b[0m\u001b[1;33m\u001b[0m\u001b[0m\n\u001b[0;32m    592\u001b[0m                 \u001b[1;32melse\u001b[0m\u001b[1;33m:\u001b[0m\u001b[1;33m\u001b[0m\u001b[1;33m\u001b[0m\u001b[0m\n\u001b[1;32m--> 593\u001b[1;33m                     \u001b[1;32mraise\u001b[0m \u001b[0mexceptions\u001b[0m\u001b[1;33m.\u001b[0m\u001b[0mLASHeaderError\u001b[0m\u001b[1;33m(\u001b[0m\u001b[0mmessage\u001b[0m\u001b[1;33m)\u001b[0m\u001b[1;33m\u001b[0m\u001b[1;33m\u001b[0m\u001b[0m\n\u001b[0m\u001b[0;32m    594\u001b[0m             \u001b[1;32melse\u001b[0m\u001b[1;33m:\u001b[0m\u001b[1;33m\u001b[0m\u001b[1;33m\u001b[0m\u001b[0m\n\u001b[0;32m    595\u001b[0m                 \u001b[1;32mif\u001b[0m \u001b[0mmnemonic_case\u001b[0m \u001b[1;33m==\u001b[0m \u001b[1;34m\"upper\"\u001b[0m\u001b[1;33m:\u001b[0m\u001b[1;33m\u001b[0m\u001b[1;33m\u001b[0m\u001b[0m\n",
      "\u001b[1;31mLASHeaderError\u001b[0m: Line 1068 (section ~a\u001d=\u0000\u0011\u0000\u0001\u0000\u0000\u0000\u0000\u0000\u0000\u0000\u0000\u0000\u0000\u0000\u0000\u0000\u0000ÿ\u0000ÿ\u0000ÿ\u0000\u0000\u0000¿\u0002BçÛÚ1\u0000a\u001d=\u0000\u0011\u0000\u0001\u0000\u0000\u0000\u0000\u0000\u0000\u0000\u0000\u0000\u0000\u0000\u0000\u0000\u0000ÿ\u0000ÿ\u0000ÿ\u0000\u0000\u0000¿¤=çg¿Ù1{7c\u001d?\u0000\u0011\u0000\u0001\u0000\u0000\u0000\u0000\u0000\u0000\u0000\u0000\u0000\u0000\u0000\u0000\u0000\u0000ÿ\u0000ÿ\u0000ÿ\u0000\u0000\u0000¿\u0012e:ç¤Ø1gfe\u001d=\u0000\u0011\u0000\u0001\u0000\u0000\u0000\u0000\u0000\u0000\u0000\u0000\u0000\u0000\u0000\u0000\u0000\u0000ÿ\u0000ÿ\u0000ÿ\u0000\u0000\u0000¿99ç\u0002BÙ1\u0013\u0018e\u001dA\u0000\u0011\u0000\u0001\u0000\u0000\u0000\u0000\u0000\u0000\u0000\u0000\u0000\u0000\u0000\u0000\u0000\u0000ÿ\u0000ÿ\u0000ÿ\u0000\u0000\u0000¿%ë6ç4¨Ú1nxd\u001dd\u0000\u0011\u0000\u0001\u0000\u0000\u0000\u0000\u0000\u0000\u0000\u0000\u0000\u0000\u0000\u0000\u0000\u0000ÿ\u0000ÿ\u0000ÿ\u0000\u0000\u0000¿íó5ç\u0000Û1\u0005ïc\u001dP\u0000\u0011\u0000\u0001\u0000\u0000\u0000\u0000\u0000\u0000\u0000\u0000\u0000\u0000\u0000\u0000\u0000\u0000ÿ\u0000ÿ\u0000ÿ\u0000\u0000\u0000¿Ðr5ç&\u000bä1CÞ[\u001dD\u0000\u0011\u0000\u0001\u0000\u0000\u0000\u0000\u0000\u0000\u0000\u0000\u0000\u0000\u0000\u0000\u0000\u0000ÿ\u0000ÿ\u0000ÿ\u0000\u0000\u0000¿Ê¸4ç§&å11\u0007[\u001d?\u0000\u0011\u0000\u0001\u0000\u0000\u0000\u0000\u0000\u0000\u0000\u0000\u0000\u0000\u0000\u0000\u0000\u0000ÿ\u0000ÿ\u0000ÿ\u0000\u0000\u0000¿ËA7ç²Åê1kÉT\u001dD\u0000\u0011\u0000\u0001\u0000\u0000\u0000\u0000\u0000\u0000\u0000\u0000\u0000\u0000\u0000\u0000\u0000\u0000ÿ\u0000ÿ\u0000ÿ\u0000\u0000\u0000¿ø\"6çøë1-gT\u001dA\u0000\u0011\u0000\u0001\u0000\u0000\u0000\u0000\u0000\u0000\u0000\u0000\u0000\u0000\u0000\u0000\u0000\u0000ÿ\u0000ÿ\u0000ÿ\u0000\u0000\u0000¿ ò4çQàí1ùxR\u001dD\u0000\u0011\u0000\u0001\u0000\u0000\u0000\u0000\u0000\u0000\u0000\u0000\u0000\u0000\u0000\u0000\u0000\u0000ÿ\u0000ÿ\u0000ÿ\u0000\u0000\u0000¿\u00186çá6ò1\u0004èM\u001dD\u0000\u0011\u0000\u0001\u0000\u0000\u0000\u0000\u0000\u0000\u0000\u0000\u0000\u0000\u0000\u0000\u0000\u0000ÿ\u0000ÿ\u0000ÿ\u0000\u0000\u0000¿SÑ5ç): \";ç§Ü18\u001dI\u0000\u0011\u0000\u0001\u0000\u0000\u0000\u0000\u0000\u0000\u0000\u0000\u0000\u0000\u0000\u0000\u0000\u0000ÿ\u0000ÿ\u0000ÿ\u0000\u0000\u0000¿y`8ç[Û1³:\u001dF\u0000\u0011\u0000\u0001\u0000\u0000\u0000\u0000\u0000\u0000\u0000\u0000\u0000\u0000\u0000\u0000\u0000\u0000ÿ\u0000ÿ\u0000ÿ\u0000\u0000\u0000¿GW4ç\u0001Û1£¦=\u001d^\u0000\u0011\u0000\u0001\u0000\u0000\u0000\u0000\u0000\u0000\u0000\u0000\u0000\u0000\u0000\u0000\u0000\u0000ÿ\u0000ÿ\u0000ÿ\u0000\u0000\u0000¿\u000bl1ç@½á1Å<\u001d;\u0000\u0011\u0000\u0001\u0000\u0000\u0000\u0000\u0000\u0000\u0000\u0000\u0000\u0000\u0000\u0000\u0000\u0000ÿ\u0000ÿ\u0000ÿ\u0000\u0000\u0000¿è³2çÚþä1öV:\u001d9\u0000\u0011\u0000\u0001\u0000\u0000\u0000\u0000\u0000\u0000\u0000\u0000\u0000\u0000\u0000\u0000\u0000\u0000ÿ\u0000ÿ\u0000ÿ\u0000\u0000\u0000¿\u0010!2çµ3æ1Õ':\u001d9\u0000\u0011\u0000\u0001\u0000\u0000\u0000\u0000\u0000\u0000\u0000\u0000\u0000\u0000\u0000\u0000\u0000\u0000ÿ\u0000ÿ\u0000ÿ\u0000\u0000\u0000¿2u1çéç1\u0013:\u001d9\u0000\u0011\u0000\u0001\u0000\u0000\u0000\u0000\u0000\u0000\u0000\u0000\u0000\u0000\u0000\u0000\u0000\u0000ÿ\u0000ÿ\u0000ÿ\u0000\u0000\u0000¿#%WçePÛ1(c\u001d8\u0000\u0011\u0000\u0001\u0000\u0000\u0000\u0000\u0000\u0000\u0000\u0000\u0000\u0000\u0000\u0000\u0000\u0000ÿ\u0000ÿ\u0000ÿ\u0000\u0000\u0000¿öRçÑÛ1Äf\u001d6\u0000\u0011\u0000\u0001\u0000\u0000\u0000\u0000\u0000\u0000\u0000\u0000\u0000\u0000\u0000\u0000\u0000\u0000ÿ\u0000ÿ\u0000ÿ\u0000\u0000\u0000¿iÛNçåìÚ1\u0004ùi\u001d1\u0000\u0011\u0000\u0001\u0000\u0000\u0000\u0000\u0000\u0000\u0000\u0000\u0000\u0000\u0000\u0000\u0000\u0000ÿ\u0000ÿ\u0000ÿ\u0000\u0000\u0000¿WeKçÄÚ1i¢l\u001d6\u0000\u0011\u0000\u0001\u0000\u0000\u0000\u0000\u0000\u0000\u0000\u0000\u0000\u0000\u0000\u0000\u0000\u0000ÿ\u0000ÿ\u0000ÿ\u0000\u0000\u0000¿é}IçÜ1H\""
     ]
    }
   ],
   "source": [
    "import pandas as pd\n",
    "import numpy as np\n",
    "import lasio\n",
    "las = lasio.read(r'\\Users\\and27\\Desktop\\Point Cloud City Datasets\\Memphis/FIT_2021_01_22.las')"
   ]
  },
  {
   "cell_type": "code",
   "execution_count": null,
   "metadata": {},
   "outputs": [],
   "source": [
    "df = las.df()    #store las file in df variable as pandas dataframe\n",
    "df.head()"
   ]
  },
  {
   "cell_type": "code",
   "execution_count": null,
   "metadata": {},
   "outputs": [],
   "source": [
    "df.shape"
   ]
  },
  {
   "cell_type": "code",
   "execution_count": null,
   "metadata": {},
   "outputs": [],
   "source": [
    "df.columns"
   ]
  },
  {
   "cell_type": "code",
   "execution_count": null,
   "metadata": {},
   "outputs": [],
   "source": [
    "dl_set = df[['X', 'Y', 'Z', 'classification']]"
   ]
  },
  {
   "cell_type": "code",
   "execution_count": null,
   "metadata": {},
   "outputs": [],
   "source": [
    "dl_set.statistics()"
   ]
  }
 ],
 "metadata": {
  "interpreter": {
   "hash": "cd4b77073594fd16cf5a7245744f3eef7d564ccf27b929cd0abc351821f2849f"
  },
  "kernelspec": {
   "display_name": "Python 3.8.12 64-bit ('o3Dml': conda)",
   "name": "python3"
  },
  "language_info": {
   "codemirror_mode": {
    "name": "ipython",
    "version": 3
   },
   "file_extension": ".py",
   "mimetype": "text/x-python",
   "name": "python",
   "nbconvert_exporter": "python",
   "pygments_lexer": "ipython3",
   "version": "3.8.12"
  },
  "orig_nbformat": 4
 },
 "nbformat": 4,
 "nbformat_minor": 2
}
