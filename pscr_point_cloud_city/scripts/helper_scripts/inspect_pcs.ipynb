{
 "cells": [
  {
   "cell_type": "code",
   "execution_count": 4,
   "metadata": {},
   "outputs": [],
   "source": [
    "import os\n",
    "import numpy as np\n",
    "from collections import Counter"
   ]
  },
  {
   "cell_type": "code",
   "execution_count": 5,
   "metadata": {},
   "outputs": [],
   "source": [
    "path_skpcc = '/home/alexdimop/PROCESS_PCC/datasets/PCC_SKITTI'"
   ]
  },
  {
   "cell_type": "code",
   "execution_count": 6,
   "metadata": {},
   "outputs": [
    {
     "name": "stdout",
     "output_type": "stream",
     "text": [
      "[[         0 2777731856]\n",
      " [         1    5439091]\n",
      " [         2    6636544]\n",
      " [         3  220450085]\n",
      " [         4    3376251]\n",
      " [         5   72782616]\n",
      " [         6   13363832]\n",
      " [         7    3223030]\n",
      " [         8     351753]\n",
      " [         9   16706115]\n",
      " [        10    1573346]\n",
      " [        11    6091429]\n",
      " [        12    1117973]\n",
      " [        13     817877]\n",
      " [        14     508303]\n",
      " [        15      11941]\n",
      " [        16   18293913]\n",
      " [        17    2608365]\n",
      " [        18       2531]\n",
      " [        19    1169305]]\n"
     ]
    }
   ],
   "source": [
    "all = np.empty([0], dtype=np.uint32) \n",
    "\n",
    "for root, dirs, files in os.walk(path_skpcc):\n",
    "    for file in files:\n",
    "        if file.endswith(\".label\"):\n",
    "            checker = os.path.join(root, file)\n",
    "            label = np.fromfile(checker, dtype='uint32')\n",
    "            label = label.reshape((-1))\n",
    "            all = np.append(all, label)\n",
    "            del label\n",
    "\n",
    "(unique, counts) = np.unique(all, return_counts=True)\n",
    "frequencies = np.asarray((unique, counts)).T\n",
    "print(frequencies)"
   ]
  },
  {
   "cell_type": "code",
   "execution_count": 7,
   "metadata": {},
   "outputs": [
    {
     "data": {
      "text/plain": [
       "{0: 2777731856,\n",
       " 1: 5439091,\n",
       " 2: 6636544,\n",
       " 3: 220450085,\n",
       " 4: 3376251,\n",
       " 5: 72782616,\n",
       " 6: 13363832,\n",
       " 7: 3223030,\n",
       " 8: 351753,\n",
       " 9: 16706115,\n",
       " 10: 1573346,\n",
       " 11: 6091429,\n",
       " 12: 1117973,\n",
       " 13: 817877,\n",
       " 14: 508303,\n",
       " 15: 11941,\n",
       " 16: 18293913,\n",
       " 17: 2608365,\n",
       " 18: 2531,\n",
       " 19: 1169305}"
      ]
     },
     "execution_count": 7,
     "metadata": {},
     "output_type": "execute_result"
    }
   ],
   "source": [
    "dict_class = {}\n",
    "for A, B in zip(unique, counts):\n",
    "    dict_class[A] = B\n",
    "\n",
    "dict_class"
   ]
  },
  {
   "cell_type": "code",
   "execution_count": 11,
   "metadata": {},
   "outputs": [],
   "source": [
    "# frequencies count\n",
    "s = sum(dict_class.values())\n",
    "summm = int(s)"
   ]
  },
  {
   "cell_type": "code",
   "execution_count": 14,
   "metadata": {},
   "outputs": [
    {
     "data": {
      "text/plain": [
       "3152256156"
      ]
     },
     "execution_count": 14,
     "metadata": {},
     "output_type": "execute_result"
    }
   ],
   "source": [
    "summm"
   ]
  },
  {
   "cell_type": "code",
   "execution_count": 12,
   "metadata": {},
   "outputs": [],
   "source": [
    "dict_ratio = {}\n",
    "for k, v in dict_class.items():\n",
    "    ratio = int(v)/summm\n",
    "    dict_ratio[k] = ratio"
   ]
  },
  {
   "cell_type": "code",
   "execution_count": 13,
   "metadata": {},
   "outputs": [
    {
     "data": {
      "text/plain": [
       "{0: 0.8811884943781834,\n",
       " 1: 0.001725459712291224,\n",
       " 2: 0.002105331442486998,\n",
       " 3: 0.06993406439397243,\n",
       " 4: 0.0010710585792888844,\n",
       " 5: 0.023089055076144643,\n",
       " 6: 0.004239449885620273,\n",
       " 7: 0.001022451806102524,\n",
       " 8: 0.00011158769547661089,\n",
       " 9: 0.005299732690886051,\n",
       " 10: 0.0004991174327648771,\n",
       " 11: 0.0019324029198596639,\n",
       " 12: 0.000354658043215191,\n",
       " 13: 0.00025945765811044704,\n",
       " 14: 0.0001612505376609375,\n",
       " 15: 3.7880804760334965e-06,\n",
       " 16: 0.005803434776447146,\n",
       " 17: 0.0008274597212016675,\n",
       " 18: 8.029169822327091e-07,\n",
       " 19: 0.0003709422528287704}"
      ]
     },
     "execution_count": 13,
     "metadata": {},
     "output_type": "execute_result"
    }
   ],
   "source": [
    "dict_ratio"
   ]
  }
 ],
 "metadata": {
  "kernelspec": {
   "display_name": "Python 3.8.10 64-bit",
   "language": "python",
   "name": "python3"
  },
  "language_info": {
   "codemirror_mode": {
    "name": "ipython",
    "version": 3
   },
   "file_extension": ".py",
   "mimetype": "text/x-python",
   "name": "python",
   "nbconvert_exporter": "python",
   "pygments_lexer": "ipython3",
   "version": "3.10.9"
  },
  "orig_nbformat": 4,
  "vscode": {
   "interpreter": {
    "hash": "916dbcbb3f70747c44a77c7bcd40155683ae19c65e1c03b4aa3499c5328201f1"
   }
  }
 },
 "nbformat": 4,
 "nbformat_minor": 2
}
