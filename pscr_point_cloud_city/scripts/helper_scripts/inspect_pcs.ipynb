{
 "cells": [
  {
   "cell_type": "code",
   "execution_count": 1,
   "metadata": {},
   "outputs": [],
   "source": [
    "import os\n",
    "import numpy as np\n",
    "import laspy"
   ]
  },
  {
   "cell_type": "code",
   "execution_count": 2,
   "metadata": {},
   "outputs": [],
   "source": [
    "# path_las = '/data/PCC_Open3DML/Datasets'\n",
    "# path_txt = '/data/PCC_Open3DML/docs/class_count.txt'\n",
    "# f =  open(path_txt, 'w')"
   ]
  },
  {
   "cell_type": "code",
   "execution_count": 2,
   "metadata": {},
   "outputs": [
    {
     "name": "stdout",
     "output_type": "stream",
     "text": [
      "Counter({0: 180592})\n",
      "Counter({0: 523367, 112: 80133, 68: 11729, 73: 4593, 76: 4543, 103: 3086, 100: 1147, 109: 545, 81: 335})\n",
      "Counter({0: 139419623, 73: 12152411, 112: 3215208, 87: 1979556, 109: 751129, 111: 570588, 68: 227744, 74: 204379, 81: 153625, 96: 97815, 98: 89813, 78: 88804, 86: 55538, 104: 47237, 100: 27075, 76: 19032, 90: 7401, 103: 4553, 110: 4312, 82: 3268, 77: 2636, 85: 2020, 79: 574, 113: 269, 64: 138})\n",
      "Counter({0: 140115750, 73: 12274295, 112: 3399195, 87: 1979556, 109: 751129, 111: 570588, 68: 291459, 74: 211163, 81: 153625, 96: 97815, 98: 89813, 78: 88804, 86: 55538, 104: 47237, 76: 42795, 100: 30478, 82: 8692, 103: 8581, 90: 7401, 110: 4312, 77: 2636, 85: 2020, 79: 574, 113: 269, 64: 138})\n",
      "Counter({0: 140494187, 73: 12282826, 112: 3485338, 87: 1979556, 109: 751717, 111: 570588, 68: 304720, 74: 211163, 81: 154702, 96: 97815, 98: 89813, 78: 88804, 86: 55538, 76: 50095, 104: 47237, 100: 31144, 103: 12347, 82: 8692, 90: 7401, 110: 4312, 77: 2636, 85: 2020, 79: 574, 113: 269, 64: 138})\n",
      "Counter({0: 140872111, 73: 12285354, 112: 3580730, 87: 1979556, 109: 751717, 111: 570588, 68: 310351, 74: 211163, 81: 154702, 96: 97815, 98: 89813, 78: 88804, 76: 57688, 86: 55538, 104: 47237, 100: 35619, 77: 23397, 103: 12347, 82: 8692, 90: 7401, 110: 4312, 85: 2020, 79: 574, 113: 269, 64: 138})\n",
      "Counter({0: 141846410, 73: 12464436, 112: 3681216, 87: 1979556, 109: 751717, 111: 570588, 68: 398630, 74: 211163, 81: 157831, 76: 103877, 96: 97815, 98: 89813, 78: 88804, 86: 66754, 104: 47237, 100: 39688, 77: 23397, 103: 13320, 82: 10755, 90: 7401, 110: 4312, 85: 2020, 64: 729, 79: 574, 113: 269})\n",
      "Counter({0: 141973728, 73: 12464436, 112: 3695420, 87: 1979556, 109: 751717, 111: 570588, 68: 409205, 74: 211163, 81: 157831, 104: 106734, 76: 105900, 96: 97815, 98: 89813, 78: 88804, 86: 66754, 100: 39927, 77: 23397, 103: 13516, 82: 11493, 90: 7401, 110: 4312, 85: 2020, 105: 786, 64: 729, 79: 574, 113: 269})\n",
      "Counter({0: 142311514, 73: 12472693, 112: 3763054, 87: 1979556, 109: 752270, 111: 570588, 68: 416771, 74: 211163, 81: 158775, 76: 112125, 104: 106734, 96: 97815, 98: 89813, 78: 88804, 86: 66754, 100: 40941, 77: 23397, 103: 17410, 82: 11493, 90: 7401, 110: 4312, 85: 2020, 105: 786, 64: 729, 79: 574, 113: 269})\n"
     ]
    }
   ],
   "source": [
    "# Get point count for entire dataset\n",
    "\n",
    "from collections import Counter\n",
    "\n",
    "path_skpcc = '/data/PCC_Open3DML/backups/skitti_PCC'\n",
    "\n",
    "showcount = Counter()\n",
    "\n",
    "for root, dirs, files in os.walk(path_skpcc):\n",
    "    for file in files:\n",
    "        if file.endswith(\".label\"):\n",
    "            checker = os.path.join(root, file)\n",
    "            label = np.fromfile(checker, dtype='uint32')\n",
    "            label = label.reshape((-1))\n",
    "            showcount.update(label)\n",
    "print(showcount)\n",
    "            "
   ]
  },
  {
   "cell_type": "code",
   "execution_count": 2,
   "metadata": {},
   "outputs": [
    {
     "name": "stdout",
     "output_type": "stream",
     "text": [
      "[[         0 2304515426]\n",
      " [         1    3745937]\n",
      " [         2  158410323]\n",
      " [         3   52152331]\n",
      " [         4   45737069]\n",
      " [         5    4095093]\n",
      " [         6    1861458]\n",
      " [         7    1261051]\n",
      " [         8     260402]\n",
      " [         9     242560]\n",
      " [        10    2325584]\n",
      " [        11    1845428]\n",
      " [        12    1365698]\n",
      " [        13     856921]\n",
      " [        14     555396]\n",
      " [        15   16565622]\n",
      " [        16   10325419]\n",
      " [        17    6727019]\n",
      " [        18     221218]\n",
      " [        19    3855813]]\n"
     ]
    }
   ],
   "source": [
    "path_skpcc = '/data/PCC_Open3DML/dev_repo/skitti_PCC'\n",
    "\n",
    "all = np.empty([0], dtype=np.uint32) \n",
    "\n",
    "for root, dirs, files in os.walk(path_skpcc):\n",
    "    for file in files:\n",
    "        if file.endswith(\".label\"):\n",
    "            checker = os.path.join(root, file)\n",
    "            label = np.fromfile(checker, dtype='uint32')\n",
    "            label = label.reshape((-1))\n",
    "            all = np.append(all, label)\n",
    "\n",
    "\n",
    "\n",
    "(unique, counts) = np.unique(all, return_counts=True)\n",
    "frequencies = np.asarray((unique, counts)).T\n",
    "print(frequencies)"
   ]
  },
  {
   "cell_type": "code",
   "execution_count": 3,
   "metadata": {},
   "outputs": [
    {
     "data": {
      "text/plain": [
       "{0: 2304515426,\n",
       " 1: 3745937,\n",
       " 2: 158410323,\n",
       " 3: 52152331,\n",
       " 4: 45737069,\n",
       " 5: 4095093,\n",
       " 6: 1861458,\n",
       " 7: 1261051,\n",
       " 8: 260402,\n",
       " 9: 242560,\n",
       " 10: 2325584,\n",
       " 11: 1845428,\n",
       " 12: 1365698,\n",
       " 13: 856921,\n",
       " 14: 555396,\n",
       " 15: 16565622,\n",
       " 16: 10325419,\n",
       " 17: 6727019,\n",
       " 18: 221218,\n",
       " 19: 3855813}"
      ]
     },
     "execution_count": 3,
     "metadata": {},
     "output_type": "execute_result"
    }
   ],
   "source": [
    "dict_class = {}\n",
    "for A, B in zip(unique, counts):\n",
    "    dict_class[A] = B\n",
    "\n",
    "dict_class"
   ]
  },
  {
   "cell_type": "code",
   "execution_count": 4,
   "metadata": {},
   "outputs": [
    {
     "data": {
      "text/plain": [
       "{1: 3745937,\n",
       " 2: 158410323,\n",
       " 3: 52152331,\n",
       " 4: 45737069,\n",
       " 5: 4095093,\n",
       " 6: 1861458,\n",
       " 7: 1261051,\n",
       " 8: 260402,\n",
       " 9: 242560,\n",
       " 10: 2325584,\n",
       " 11: 1845428,\n",
       " 12: 1365698,\n",
       " 13: 856921,\n",
       " 14: 555396,\n",
       " 15: 16565622,\n",
       " 16: 10325419,\n",
       " 17: 6727019,\n",
       " 18: 221218,\n",
       " 19: 3855813}"
      ]
     },
     "execution_count": 4,
     "metadata": {},
     "output_type": "execute_result"
    }
   ],
   "source": [
    "# del dict_class[0]\n",
    "\n",
    "dict_class"
   ]
  },
  {
   "cell_type": "code",
   "execution_count": 4,
   "metadata": {},
   "outputs": [],
   "source": [
    "# frequencies count\n",
    "s = sum(dict_class.values())"
   ]
  },
  {
   "cell_type": "code",
   "execution_count": 8,
   "metadata": {},
   "outputs": [
    {
     "data": {
      "text/plain": [
       "numpy.int64"
      ]
     },
     "execution_count": 8,
     "metadata": {},
     "output_type": "execute_result"
    }
   ],
   "source": [
    "type(s)"
   ]
  },
  {
   "cell_type": "code",
   "execution_count": 5,
   "metadata": {},
   "outputs": [],
   "source": [
    "summm = int(s)"
   ]
  },
  {
   "cell_type": "code",
   "execution_count": 6,
   "metadata": {},
   "outputs": [],
   "source": [
    "dict_ratio = {}\n",
    "for k, v in dict_class.items():\n",
    "    ratio = int(v)/summm\n",
    "    dict_ratio[k] = ratio\n"
   ]
  },
  {
   "cell_type": "code",
   "execution_count": 7,
   "metadata": {},
   "outputs": [
    {
     "name": "stdout",
     "output_type": "stream",
     "text": [
      "{0: 0.8806193336394248, 1: 0.0014314265409457346, 2: 0.06053298298983313, 3: 0.01992885378627217, 4: 0.017477404043812372, 5: 0.0015648487435429618, 6: 0.0007113147888113883, 7: 0.0004818826026401831, 8: 9.95068347693384e-05, 9: 9.268891115141482e-05, 10: 0.0008886702207748676, 11: 0.0007051892807071783, 12: 0.0005218711270682096, 13: 0.0003274533081826416, 14: 0.00021223223325301445, 15: 0.006330184142999352, 16: 0.003945629305294074, 17: 0.002570580748700855, 18: 8.453354034916591e-05, 19: 0.001473413211467143}\n"
     ]
    }
   ],
   "source": [
    "print(dict_ratio)"
   ]
  },
  {
   "cell_type": "code",
   "execution_count": null,
   "metadata": {},
   "outputs": [
    {
     "name": "stdout",
     "output_type": "stream",
     "text": [
      "FILE: \n",
      "FIT_2021_01_22.las\n",
      "FILE: \n",
      "HHCC_2020_11_07.las\n",
      "FILE: \n",
      "NCRM_2020_12_18.las\n",
      "FILE: \n",
      "LB_1ST.las\n",
      "FILE: \n",
      "LB_EAST_Entrance.las\n",
      "FILE: \n",
      "LB_GENERAL.las\n",
      "FILE: \n",
      "LB_MEMORIAL.las\n",
      "FILE: \n",
      "LB_PressBox.las\n",
      "FILE: \n",
      "LB_WEST.las\n",
      "FILE: \n",
      "LB_1ST.las\n",
      "FILE: \n",
      "PP-MASION-1ST.las\n",
      "FILE: \n",
      "PP-MASION-2ND.las\n",
      "FILE: \n",
      "PP_OFFICE_EXHIBITION_1ST.las\n",
      "FILE: \n",
      "PP_OFFICE_EXHIBITION_2ND.las\n",
      "FILE: \n",
      "PP_UNDERGROUND.las\n",
      "FILE: \n",
      "MCL_1ST.las\n",
      "FILE: \n",
      "MCL_2ND.las\n",
      "FILE: \n",
      "MCL_3RD.las\n",
      "FILE: \n",
      "MCL_4TH.las\n",
      "FILE: \n",
      "MCL_Basement.las\n"
     ]
    },
    {
     "ename": "",
     "evalue": "",
     "output_type": "error",
     "traceback": [
      "\u001b[1;31mCanceled future for execute_request message before replies were done"
     ]
    },
    {
     "ename": "",
     "evalue": "",
     "output_type": "error",
     "traceback": [
      "\u001b[1;31mThe Kernel crashed while executing code in the the current cell or a previous cell. Please review the code in the cell(s) to identify a possible cause of the failure. Click <a href='https://aka.ms/vscodeJupyterKernelCrash'>here</a> for more info. View Jupyter <a href='command:jupyter.viewOutput'>log</a> for further details."
     ]
    }
   ],
   "source": [
    "# Set up code to save results to a text file instead of printing everything\n",
    "\n",
    "all = np.empty([0], dtype=np.uint32) \n",
    "\n",
    "for root, dirs, files in os.walk(path_las):\n",
    "    for file in files:\n",
    "        if file.endswith(\".las\"):\n",
    "            f.write('File: ')\n",
    "            f.write(file)\n",
    "            print('FILE: ')\n",
    "            print(file)\n",
    "            checker = os.path.join(root, file)   # print(os.path.exists(checker))\n",
    "\n",
    "            las = laspy.read(checker)\n",
    "            label = las.classification\n",
    "            label = label.reshape((-1))\n",
    "\n",
    "            all = np.append(all, label)\n",
    "            \n",
    "            # (unique, counts) = np.unique(label, return_counts=True)\n",
    "            # frequencies = np.asarray((unique, counts)).T\n",
    "            # f.write('LABEL COUNT: ')\n",
    "            # f.write(str(frequencies))\n",
    "            # print('LABEL COUNT: ')\n",
    "            # print(frequencies)\n",
    "\n",
    "            del las\n",
    "\n",
    "(unique, counts) = np.unique(all, return_counts=True)\n",
    "frequencies = np.asarray((unique, counts)).T\n",
    "f.write(str(frequencies))\n",
    "# print(frequencies)\n",
    "\n",
    "f.close()"
   ]
  },
  {
   "cell_type": "code",
   "execution_count": null,
   "metadata": {},
   "outputs": [
    {
     "name": "stdout",
     "output_type": "stream",
     "text": [
      "Sequence: \n",
      "/data/PCC_Open3DML/skitti_PCC/dataset/sequences/10/labels\n",
      "Sequence: \n",
      "/data/PCC_Open3DML/skitti_PCC/dataset/sequences/00/labels\n",
      "Sequence: \n",
      "/data/PCC_Open3DML/skitti_PCC/dataset/sequences/11/labels\n",
      "Sequence: \n",
      "/data/PCC_Open3DML/skitti_PCC/dataset/sequences/01/labels\n",
      "Sequence: \n",
      "/data/PCC_Open3DML/skitti_PCC/dataset/sequences/12/labels\n",
      "Sequence: \n",
      "/data/PCC_Open3DML/skitti_PCC/dataset/sequences/02/labels\n",
      "Sequence: \n",
      "/data/PCC_Open3DML/skitti_PCC/dataset/sequences/13/labels\n",
      "Sequence: \n",
      "/data/PCC_Open3DML/skitti_PCC/dataset/sequences/03/labels\n",
      "Sequence: \n",
      "/data/PCC_Open3DML/skitti_PCC/dataset/sequences/14/labels\n",
      "Sequence: \n",
      "/data/PCC_Open3DML/skitti_PCC/dataset/sequences/04/labels\n",
      "Sequence: \n",
      "/data/PCC_Open3DML/skitti_PCC/dataset/sequences/15/labels\n",
      "Sequence: \n",
      "/data/PCC_Open3DML/skitti_PCC/dataset/sequences/26/labels\n",
      "Sequence: \n",
      "/data/PCC_Open3DML/skitti_PCC/dataset/sequences/05/labels\n",
      "Sequence: \n",
      "/data/PCC_Open3DML/skitti_PCC/dataset/sequences/16/labels\n",
      "Sequence: \n",
      "/data/PCC_Open3DML/skitti_PCC/dataset/sequences/27/labels\n",
      "Sequence: \n",
      "/data/PCC_Open3DML/skitti_PCC/dataset/sequences/28/labels\n",
      "Sequence: \n",
      "/data/PCC_Open3DML/skitti_PCC/dataset/sequences/07/labels\n",
      "Sequence: \n",
      "/data/PCC_Open3DML/skitti_PCC/dataset/sequences/18/labels\n",
      "Sequence: \n",
      "/data/PCC_Open3DML/skitti_PCC/dataset/sequences/29/labels\n",
      "Sequence: \n",
      "/data/PCC_Open3DML/skitti_PCC/dataset/sequences/08/labels\n",
      "Sequence: \n",
      "/data/PCC_Open3DML/skitti_PCC/dataset/sequences/30/labels\n",
      "Sequence: \n",
      "/data/PCC_Open3DML/skitti_PCC/dataset/sequences/09/labels\n"
     ]
    }
   ],
   "source": [
    "# for skitti_PCC - check for stairs\n",
    "\n",
    "import os\n",
    "import numpy as np\n",
    "\n",
    "path_skpcc = '/data/PCC_Open3DML/skitti_PCC'\n",
    "\n",
    "for root, dirs, files in os.walk(path_skpcc):\n",
    "    for file in files:\n",
    "        if file.endswith(\".label\"):\n",
    "            checker = os.path.join(root, file)\n",
    "            label = np.fromfile(checker, dtype='uint32')\n",
    "            label = label.reshape((-1))\n",
    "            (unique, counts) = np.unique(label, return_counts=True)\n",
    "            if 104 in unique:\n",
    "                print('Sequence: ')\n",
    "                print(root)\n",
    "            del label\n",
    "\n",
    "f.close()\n"
   ]
  },
  {
   "cell_type": "code",
   "execution_count": null,
   "metadata": {},
   "outputs": [],
   "source": []
  }
 ],
 "metadata": {
  "kernelspec": {
   "display_name": "Python 3.8.10 64-bit",
   "language": "python",
   "name": "python3"
  },
  "language_info": {
   "codemirror_mode": {
    "name": "ipython",
    "version": 3
   },
   "file_extension": ".py",
   "mimetype": "text/x-python",
   "name": "python",
   "nbconvert_exporter": "python",
   "pygments_lexer": "ipython3",
   "version": "3.8.10"
  },
  "orig_nbformat": 4,
  "vscode": {
   "interpreter": {
    "hash": "916dbcbb3f70747c44a77c7bcd40155683ae19c65e1c03b4aa3499c5328201f1"
   }
  }
 },
 "nbformat": 4,
 "nbformat_minor": 2
}
