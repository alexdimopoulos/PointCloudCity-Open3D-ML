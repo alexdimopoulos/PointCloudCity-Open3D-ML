{
 "cells": [
  {
   "cell_type": "markdown",
   "metadata": {},
   "source": [
    "# Process Point Cloud City dataset for use with Open3D-ML_Point_Cloud_City\n",
    "\n",
    "\n",
    "<!-- WHAT DOES THIS NOTEBOOK DO? -->\n"
   ]
  },
  {
   "cell_type": "markdown",
   "metadata": {},
   "source": [
    "### Download instructions\n",
    "\n",
    "1.) Download the datasets released by [Enfield](https://www.nist.gov/ctl/pscr/creating-catalog-point-clouds-public-buildings-enfield-connecticut) and [Memphis](https://www.nist.gov/ctl/pscr/map-901-building-rich-interior-hazard-maps-first-responders). File structure and class labeling methods differ \n",
    "\n",
    "2.) Go through each folder and unzip all .las files. *Some zipped folders contain contain files which themselves need to be unzipped as well."
   ]
  },
  {
   "cell_type": "markdown",
   "metadata": {},
   "source": [
    "### Process instructions\n",
    "\n",
    "1.) Run /scripts/process_point_cloud_city.py \n",
    "\n",
    "2.) Set input file to folder containing both Enfield and Memphis datasets with all files unzipped\n",
    "\n",
    "3.) Set output folder - PCC_SKITTI will be created here"
   ]
  },
  {
   "cell_type": "code",
   "execution_count": 3,
   "metadata": {},
   "outputs": [],
   "source": [
    "\n",
    "label_to_names = {\n",
    "    0: 'unlabeled',\n",
    "    1: 'stairway',\n",
    "    2: 'door',\n",
    "    3: 'window',\n",
    "    4: 'pillar',\n",
    "    5: 'building entrance-exit',\n",
    "    6: 'elevator',\n",
    "    7: 'server equipment',\n",
    "    8: 'emergency lighting',\n",
    "    9: 'sprinkler',\n",
    "    10: 'fire door',\n",
    "    11: 'sign exit',\n",
    "    12: 'extinguisher',\n",
    "    13: 'utility shut offs - water',\n",
    "    14: 'mechanical equipment',\n",
    "    15: 'smoke detector',\n",
    "    16: 'fire suppression systems - sprinkler cover/escutcheon',\n",
    "    17: 'utility shutoffs - electric',\n",
    "    18: 'IFAK',\n",
    "    19: 'fire alarm'\n",
    "    }"
   ]
  },
  {
   "cell_type": "markdown",
   "metadata": {},
   "source": [
    "# NOTES"
   ]
  },
  {
   "cell_type": "code",
   "execution_count": null,
   "metadata": {},
   "outputs": [],
   "source": [
    "# Original Class and Label\n",
    "\n",
    "# Memphis \n",
    "# \tUnassigned\t1\n",
    "#\tstairway\t104\n",
    "#\tbuilding entrance-exit\t68\n",
    "#\tDoor\t73\n",
    "#\tfire door\t78\n",
    "#\twindow\t112\n",
    "#\troof access\t96\n",
    "#\tsign exit\t100\n",
    "#\temergency lighting\t75\n",
    "#\tsmoke detector\t103\n",
    "#\tfire suppression systems - extinguisher\t81\n",
    "#\tfire alarm\t76\n",
    "# \tPerson\t92\n",
    "#\tAED\t64\n",
    "#\tfire suppression systems - sprinkler\t82\n",
    "#\tstandpipe connection\t105\n",
    "#\tutility shutoffs - electric\t109\n",
    "#\televator\t74\n",
    "#\tfire hydrant\t80\n",
    "#   utility shutoffs - gas\t110\n",
    "\n",
    "# Enfield\n",
    "# \tOther\t0\n",
    "# \tStair\t24\n",
    "# \tExit door\t2\n",
    "# \tNon-exit door\t3\n",
    "# \tFire door\t4\n",
    "# \tWindows\t5\n",
    "# \tRoof access\t25\n",
    "# \tExit sign\t7\n",
    "# \tEmergency light\t8\n",
    "# \tSmoke detector\t9\n",
    "# \tExtinguisher\t10\n",
    "# \tFire alarm\t11\n",
    "# \tPerson\t\n",
    "# \tAED\t28\n",
    "# \tSprinkler\t14\n",
    "# \tStandpipe\t15\n",
    "# \tElectrical shutoff\t22\n",
    "# \tElevator\t23\n",
    "# \tHydrant\t18\n",
    "# \tGas shutoff\t21"
   ]
  }
 ],
 "metadata": {
  "kernelspec": {
   "display_name": "py37",
   "language": "python",
   "name": "python3"
  },
  "language_info": {
   "codemirror_mode": {
    "name": "ipython",
    "version": 3
   },
   "file_extension": ".py",
   "mimetype": "text/x-python",
   "name": "python",
   "nbconvert_exporter": "python",
   "pygments_lexer": "ipython3",
   "version": "3.7.16"
  },
  "orig_nbformat": 4
 },
 "nbformat": 4,
 "nbformat_minor": 2
}
